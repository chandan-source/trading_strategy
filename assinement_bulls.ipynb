{
 "cells": [
  {
   "cell_type": "code",
   "execution_count": 1,
   "id": "20a8e241",
   "metadata": {},
   "outputs": [],
   "source": [
    "import pandas as pd\n",
    "import requests\n",
    "import json"
   ]
  },
  {
   "cell_type": "code",
   "execution_count": 2,
   "id": "aa7fab07",
   "metadata": {},
   "outputs": [],
   "source": [
    "\n",
    "class ScriptData:\n",
    "    def __init__(self, api_key):#The __init__ method takes an api_key argument as input and assigns it to the api_key attribute of the instance using self.api_key = api_key. This allows the instance to store the API key needed to access the intraday data from a web API.\n",
    "        self.api_key = api_key\n",
    "        self.intraday_data = None\n",
    "\n",
    "    def fetch_intraday_data(self, script):#The fetch_intraday_data method first constructs the API URL using the provided script and api_key values. It then sends a GET request to the API URL using the requests.get() method.\n",
    "        api_key='SOQTTZUE488CNG23'\n",
    "        url = f\"https://www.alphavantage.co/query?function=TIME_SERIES_INTRADAY&symbol={script}&interval=1min&apikey={self.api_key}\"\n",
    "        response = requests.get(url)\n",
    "        if response.status_code == 200:\n",
    "            self.intraday_data = json.loads(response.text)\n",
    "\n",
    "    def convert_intraday_data(self, script):\n",
    "        time_series = self.intraday_data[\"Time Series (1min)\"]#this code provides a way to convert raw intraday data for a given stock script symbol from a dictionary format to a pandas DataFrame format, allowing for easier data analysis and manipulation.\n",
    "        data = []\n",
    "        for timestamp, values in time_series.items():\n",
    "            data.append([timestamp, float(values[\"1. open\"]), float(values[\"2. high\"]), float(values[\"3. low\"]), float(values[\"4. close\"]), int(values[\"5. volume\"])])\n",
    "        df = pd.DataFrame(data, columns=[\"timestamp\", \"open\", \"high\", \"low\", \"close\", \"volume\"])\n",
    "        return df\n",
    "\n",
    "    def __getitem__(self, item):#The __getitem__ method allows accessing the items in the intraday_data attribute using the square bracket notation.\n",
    "        return self.intraday_data[item]\n",
    "\n",
    "    def __setitem__(self, key, value):#The __setitem__ method allows setting the items in the intraday_data attribute using the square bracket notation.\n",
    "        self.intraday_data[key] = value\n",
    "\n",
    "    def __contains__(self, item):#The __contains__ method allows checking if a given item is in the intraday_data attribute.\n",
    "\n",
    "\n",
    "        return item in self.intraday_data\n",
    "    \n",
    "\n",
    "\n",
    "\n",
    "\n"
   ]
  },
  {
   "cell_type": "code",
   "execution_count": 3,
   "id": "b2cd6fe5",
   "metadata": {},
   "outputs": [],
   "source": [
    "\n",
    "api_key = \"SOQTTZUE488CNG23\"\n",
    "\n",
    "script_data = ScriptData(api_key)\n",
    "\n"
   ]
  },
  {
   "cell_type": "code",
   "execution_count": 4,
   "id": "0122e3dd",
   "metadata": {},
   "outputs": [
    {
     "name": "stdout",
     "output_type": "stream",
     "text": [
      "              timestamp      open      high       low     close  volume\n",
      "0   2023-02-14 20:00:00  152.8000  152.8500  152.7900  152.8400    5807\n",
      "1   2023-02-14 19:59:00  152.8000  152.8000  152.7900  152.8000    1037\n",
      "2   2023-02-14 19:58:00  152.7900  152.8000  152.7600  152.8000    1147\n",
      "3   2023-02-14 19:57:00  152.7900  152.7900  152.7700  152.7700    1438\n",
      "4   2023-02-14 19:55:00  152.7300  152.7700  152.7300  152.7700    1616\n",
      "..                  ...       ...       ...       ...       ...     ...\n",
      "95  2023-02-14 17:46:00  153.1200  153.1200  153.1200  153.1200     898\n",
      "96  2023-02-14 17:45:00  153.1200  153.1200  153.1200  153.1200     329\n",
      "97  2023-02-14 17:42:00  153.1200  153.1300  153.1200  153.1300    1278\n",
      "98  2023-02-14 17:38:00  153.0800  153.0800  153.0800  153.0800     419\n",
      "99  2023-02-14 17:35:00  153.0461  153.0461  153.0461  153.0461     277\n",
      "\n",
      "[100 rows x 6 columns]\n"
     ]
    }
   ],
   "source": [
    "script_data.fetch_intraday_data('AAPL')\n",
    "df=script_data.convert_intraday_data('AAPL')\n",
    "print(df)"
   ]
  },
  {
   "cell_type": "code",
   "execution_count": 5,
   "id": "fad1e451",
   "metadata": {},
   "outputs": [
    {
     "name": "stdout",
     "output_type": "stream",
     "text": [
      "              timestamp   open   high    low  close  volume\n",
      "0   2023-02-14 20:00:00  94.18  94.18  94.11  94.12    3222\n",
      "1   2023-02-14 19:59:00  94.17  94.18  94.17  94.18    3081\n",
      "2   2023-02-14 19:58:00  94.16  94.18  94.16  94.18    1594\n",
      "3   2023-02-14 19:56:00  94.18  94.18  94.15  94.15    1277\n",
      "4   2023-02-14 19:55:00  94.22  94.22  94.18  94.18     614\n",
      "..                  ...    ...    ...    ...    ...     ...\n",
      "95  2023-02-14 17:40:00  94.39  94.39  94.35  94.35     884\n",
      "96  2023-02-14 17:39:00  94.39  94.40  94.39  94.40     502\n",
      "97  2023-02-14 17:38:00  94.37  94.40  94.37  94.40     408\n",
      "98  2023-02-14 17:36:00  94.36  94.36  94.36  94.36    2632\n",
      "99  2023-02-14 17:35:00  94.36  94.36  94.36  94.36    1702\n",
      "\n",
      "[100 rows x 6 columns]\n"
     ]
    }
   ],
   "source": [
    "script_data.fetch_intraday_data(\"GOOGL\")\n",
    "df=script_data.convert_intraday_data(\"GOOGL\")\n",
    "print(df)"
   ]
  },
  {
   "cell_type": "code",
   "execution_count": 6,
   "id": "a9d3ebef",
   "metadata": {},
   "outputs": [
    {
     "data": {
      "text/plain": [
       "False"
      ]
     },
     "execution_count": 6,
     "metadata": {},
     "output_type": "execute_result"
    }
   ],
   "source": [
    "'NVDA' in script_data"
   ]
  },
  {
   "cell_type": "code",
   "execution_count": 7,
   "id": "c339379a",
   "metadata": {},
   "outputs": [],
   "source": [
    "\n",
    "def indicator1(df, timeperiod):\n",
    "    ma = df['close'].rolling(timeperiod).mean()#this code provides a way to compute a simple moving average indicator over the close prices of a stock script's intraday data, and returns the indicator data in a pandas DataFrame format that can be used for further analysis or visualization.\n",
    "    return pd.DataFrame({'timestamp': df['timestamp'], 'indicator': ma})\n"
   ]
  },
  {
   "cell_type": "code",
   "execution_count": 8,
   "id": "23904db3",
   "metadata": {},
   "outputs": [
    {
     "name": "stdout",
     "output_type": "stream",
     "text": [
      "              timestamp  indicator\n",
      "0   2023-02-14 20:00:00        NaN\n",
      "1   2023-02-14 19:59:00        NaN\n",
      "2   2023-02-14 19:58:00        NaN\n",
      "3   2023-02-14 19:56:00        NaN\n",
      "4   2023-02-14 19:55:00     94.162\n",
      "..                  ...        ...\n",
      "95  2023-02-14 17:40:00     94.374\n",
      "96  2023-02-14 17:39:00     94.374\n",
      "97  2023-02-14 17:38:00     94.378\n",
      "98  2023-02-14 17:36:00     94.380\n",
      "99  2023-02-14 17:35:00     94.374\n",
      "\n",
      "[100 rows x 2 columns]\n"
     ]
    }
   ],
   "source": [
    "\n",
    "script_data = ScriptData('SOQTTZUE488CNG23')\n",
    "script_data.fetch_intraday_data('GOOGL')\n",
    "df = script_data.convert_intraday_data('GOOGL')\n",
    "ma_df = indicator1(df, 5)\n",
    "print(ma_df)\n",
    "\n",
    "\n"
   ]
  },
  {
   "cell_type": "code",
   "execution_count": 20,
   "id": "a566d823",
   "metadata": {},
   "outputs": [],
   "source": [
    "\n",
    "\n",
    "class Strategy:\n",
    "    def indicator1(df, timeperiod):\n",
    "        ma = df['close'].rolling(timeperiod).mean()\n",
    "        return pd.DataFrame({'timestamp': df['timestamp'], 'indicator': ma})\n",
    "    \n",
    "    def __init__(self, api_key):\n",
    "        self.script_data = ScriptData(api_key)\n",
    "    \n",
    "    def generate_signals(self, script):\n",
    "        df =script #This method then creates a new pandas dataframe called signals, with columns for timestamp and signal. The timestamp column is taken from the index of the df dataframe (the intraday data), and the signal column is initialized to NO_SIGNAL for all rows.\n",
    "        \n",
    "        # compute indicator data using indicator1 function\n",
    "        indicator_data = indicator1(df, timeperiod=5)#['indicator']\n",
    "        \n",
    "        # generate signals DataFrame\n",
    "        signals = pd.DataFrame({'timestamp': df.index})\n",
    "        signals['signal'] = 'NO_SIGNAL'\n",
    "        signals.loc[indicator_data.shift() < df['close'], 'signal'] = 'BUY'\n",
    "        signals.loc[indicator_data.shift() > df['close'], 'signal'] = 'SELL'\n",
    "        \n",
    "        # print signals with only BUY and SELL signals\n",
    "        print(signals[signals['signal'] != 'NO_SIGNAL'])\n",
    "        \n",
    "        return signals\n"
   ]
  },
  {
   "cell_type": "code",
   "execution_count": 22,
   "id": "be05235b",
   "metadata": {},
   "outputs": [],
   "source": [
    "st=Strategy(\"SOQTTZUE488CNG23\")\n",
    "script_data = ScriptData('SOQTTZUE488CNG23')\n",
    "script_data.fetch_intraday_data('GOOGL')\n",
    "df = script_data.convert_intraday_data('GOOGL')\n",
    "st.generate_signals(df)"
   ]
  },
  {
   "cell_type": "code",
   "execution_count": null,
   "id": "6f3a5934",
   "metadata": {},
   "outputs": [],
   "source": []
  }
 ],
 "metadata": {
  "kernelspec": {
   "display_name": "Python 3 (ipykernel)",
   "language": "python",
   "name": "python3"
  },
  "language_info": {
   "codemirror_mode": {
    "name": "ipython",
    "version": 3
   },
   "file_extension": ".py",
   "mimetype": "text/x-python",
   "name": "python",
   "nbconvert_exporter": "python",
   "pygments_lexer": "ipython3",
   "version": "3.9.13"
  }
 },
 "nbformat": 4,
 "nbformat_minor": 5
}
