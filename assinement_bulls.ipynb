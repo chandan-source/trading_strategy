{
 "cells": [
  {
   "cell_type": "code",
   "execution_count": 1,
   "id": "20a8e241",
   "metadata": {},
   "outputs": [],
   "source": [
    "import pandas as pd\n",
    "import requests\n",
    "import json"
   ]
  },
  {
   "cell_type": "code",
   "execution_count": 2,
   "id": "aa7fab07",
   "metadata": {},
   "outputs": [],
   "source": [
    "\n",
    "class ScriptData:\n",
    "    def __init__(self, api_key):#The __init__ method takes an api_key argument as input and assigns it to the api_key attribute of the instance using self.api_key = api_key. This allows the instance to store the API key needed to access the intraday data from a web API.\n",
    "        self.api_key = api_key\n",
    "        self.intraday_data = None\n",
    "\n",
    "    def fetch_intraday_data(self, script):#The fetch_intraday_data method first constructs the API URL using the provided script and api_key values. It then sends a GET request to the API URL using the requests.get() method.\n",
    "        api_key='SOQTTZUE488CNG23'\n",
    "        url = f\"https://www.alphavantage.co/query?function=TIME_SERIES_INTRADAY&symbol={script}&interval=1min&apikey={self.api_key}\"\n",
    "        response = requests.get(url)\n",
    "        if response.status_code == 200:\n",
    "            self.intraday_data = json.loads(response.text)\n",
    "\n",
    "    def convert_intraday_data(self, script):\n",
    "        time_series = self.intraday_data[\"Time Series (1min)\"]#this code provides a way to convert raw intraday data for a given stock script symbol from a dictionary format to a pandas DataFrame format, allowing for easier data analysis and manipulation.\n",
    "        data = []\n",
    "        for timestamp, values in time_series.items():\n",
    "            data.append([timestamp, float(values[\"1. open\"]), float(values[\"2. high\"]), float(values[\"3. low\"]), float(values[\"4. close\"]), int(values[\"5. volume\"])])\n",
    "        df = pd.DataFrame(data, columns=[\"timestamp\", \"open\", \"high\", \"low\", \"close\", \"volume\"])\n",
    "        return df\n",
    "\n",
    "    def __getitem__(self, item):#The __getitem__ method allows accessing the items in the intraday_data attribute using the square bracket notation.\n",
    "        return self.intraday_data[item]\n",
    "\n",
    "    def __setitem__(self, key, value):#The __setitem__ method allows setting the items in the intraday_data attribute using the square bracket notation.\n",
    "        self.intraday_data[key] = value\n",
    "\n",
    "    def __contains__(self, item):#The __contains__ method allows checking if a given item is in the intraday_data attribute.\n",
    "\n",
    "\n",
    "        return item in self.intraday_data\n",
    "    \n",
    "\n",
    "\n",
    "\n",
    "\n"
   ]
  },
  {
   "cell_type": "code",
   "execution_count": 3,
   "id": "b2cd6fe5",
   "metadata": {},
   "outputs": [],
   "source": [
    "\n",
    "api_key = \"SOQTTZUE488CNG23\"\n",
    "\n",
    "script_data = ScriptData(api_key)\n",
    "\n"
   ]
  },
  {
   "cell_type": "code",
   "execution_count": 4,
   "id": "0122e3dd",
   "metadata": {},
   "outputs": [
    {
     "name": "stdout",
     "output_type": "stream",
     "text": [
      "              timestamp      open      high       low     close  volume\n",
      "0   2023-02-14 20:00:00  152.8000  152.8500  152.7900  152.8400    5807\n",
      "1   2023-02-14 19:59:00  152.8000  152.8000  152.7900  152.8000    1037\n",
      "2   2023-02-14 19:58:00  152.7900  152.8000  152.7600  152.8000    1147\n",
      "3   2023-02-14 19:57:00  152.7900  152.7900  152.7700  152.7700    1438\n",
      "4   2023-02-14 19:55:00  152.7300  152.7700  152.7300  152.7700    1616\n",
      "..                  ...       ...       ...       ...       ...     ...\n",
      "95  2023-02-14 17:46:00  153.1200  153.1200  153.1200  153.1200     898\n",
      "96  2023-02-14 17:45:00  153.1200  153.1200  153.1200  153.1200     329\n",
      "97  2023-02-14 17:42:00  153.1200  153.1300  153.1200  153.1300    1278\n",
      "98  2023-02-14 17:38:00  153.0800  153.0800  153.0800  153.0800     419\n",
      "99  2023-02-14 17:35:00  153.0461  153.0461  153.0461  153.0461     277\n",
      "\n",
      "[100 rows x 6 columns]\n"
     ]
    }
   ],
   "source": [
    "script_data.fetch_intraday_data('AAPL')\n",
    "df=script_data.convert_intraday_data('AAPL')\n",
    "print(df)"
   ]
  },
  {
   "cell_type": "code",
   "execution_count": 5,
   "id": "fad1e451",
   "metadata": {},
   "outputs": [
    {
     "name": "stdout",
     "output_type": "stream",
     "text": [
      "              timestamp   open   high    low  close  volume\n",
      "0   2023-02-14 20:00:00  94.18  94.18  94.11  94.12    3222\n",
      "1   2023-02-14 19:59:00  94.17  94.18  94.17  94.18    3081\n",
      "2   2023-02-14 19:58:00  94.16  94.18  94.16  94.18    1594\n",
      "3   2023-02-14 19:56:00  94.18  94.18  94.15  94.15    1277\n",
      "4   2023-02-14 19:55:00  94.22  94.22  94.18  94.18     614\n",
      "..                  ...    ...    ...    ...    ...     ...\n",
      "95  2023-02-14 17:40:00  94.39  94.39  94.35  94.35     884\n",
      "96  2023-02-14 17:39:00  94.39  94.40  94.39  94.40     502\n",
      "97  2023-02-14 17:38:00  94.37  94.40  94.37  94.40     408\n",
      "98  2023-02-14 17:36:00  94.36  94.36  94.36  94.36    2632\n",
      "99  2023-02-14 17:35:00  94.36  94.36  94.36  94.36    1702\n",
      "\n",
      "[100 rows x 6 columns]\n"
     ]
    }
   ],
   "source": [
    "script_data.fetch_intraday_data(\"GOOGL\")\n",
    "df=script_data.convert_intraday_data(\"GOOGL\")\n",
    "print(df)"
   ]
  },
  {
   "cell_type": "code",
   "execution_count": 6,
   "id": "a9d3ebef",
   "metadata": {},
   "outputs": [
    {
     "data": {
      "text/plain": [
       "False"
      ]
     },
     "execution_count": 6,
     "metadata": {},
     "output_type": "execute_result"
    }
   ],
   "source": [
    "'NVDA' in script_data"
   ]
  },
  {
   "cell_type": "code",
   "execution_count": 7,
   "id": "c339379a",
   "metadata": {},
   "outputs": [],
   "source": [
    "\n",
    "def indicator1(df, timeperiod):\n",
    "    ma = df['close'].rolling(timeperiod).mean()#this code provides a way to compute a simple moving average indicator over the close prices of a stock script's intraday data, and returns the indicator data in a pandas DataFrame format that can be used for further analysis or visualization.\n",
    "    return pd.DataFrame({'timestamp': df['timestamp'], 'indicator': ma})\n"
   ]
  },
  {
   "cell_type": "code",
   "execution_count": 8,
   "id": "23904db3",
   "metadata": {},
   "outputs": [
    {
     "name": "stdout",
     "output_type": "stream",
     "text": [
      "              timestamp  indicator\n",
      "0   2023-02-14 20:00:00        NaN\n",
      "1   2023-02-14 19:59:00        NaN\n",
      "2   2023-02-14 19:58:00        NaN\n",
      "3   2023-02-14 19:56:00        NaN\n",
      "4   2023-02-14 19:55:00     94.162\n",
      "..                  ...        ...\n",
      "95  2023-02-14 17:40:00     94.374\n",
      "96  2023-02-14 17:39:00     94.374\n",
      "97  2023-02-14 17:38:00     94.378\n",
      "98  2023-02-14 17:36:00     94.380\n",
      "99  2023-02-14 17:35:00     94.374\n",
      "\n",
      "[100 rows x 2 columns]\n"
     ]
    }
   ],
   "source": [
    "\n",
    "script_data = ScriptData('SOQTTZUE488CNG23')\n",
    "script_data.fetch_intraday_data('GOOGL')\n",
    "df = script_data.convert_intraday_data('GOOGL')\n",
    "ma_df = indicator1(df, 5)\n",
    "print(ma_df)\n",
    "\n",
    "\n"
   ]
  },
  {
   "cell_type": "code",
   "execution_count": 20,
   "id": "a566d823",
   "metadata": {},
   "outputs": [],
   "source": [
    "\n",
    "\n",
    "class Strategy:\n",
    "    def indicator1(df, timeperiod):\n",
    "        ma = df['close'].rolling(timeperiod).mean()\n",
    "        return pd.DataFrame({'timestamp': df['timestamp'], 'indicator': ma})\n",
    "    \n",
    "    def __init__(self, api_key):\n",
    "        self.script_data = ScriptData(api_key)\n",
    "    \n",
    "    def generate_signals(self, script):\n",
    "        df =script #This method then creates a new pandas dataframe called signals, with columns for timestamp and signal. The timestamp column is taken from the index of the df dataframe (the intraday data), and the signal column is initialized to NO_SIGNAL for all rows.\n",
    "        \n",
    "        # compute indicator data using indicator1 function\n",
    "        indicator_data = indicator1(df, timeperiod=5)#['indicator']\n",
    "        \n",
    "        # generate signals DataFrame\n",
    "        signals = pd.DataFrame({'timestamp': df.index})\n",
    "        signals['signal'] = 'NO_SIGNAL'\n",
    "        signals.loc[indicator_data.shift() < df['close'], 'signal'] = 'BUY'\n",
    "        signals.loc[indicator_data.shift() > df['close'], 'signal'] = 'SELL'\n",
    "        \n",
    "        # print signals with only BUY and SELL signals\n",
    "        print(signals[signals['signal'] != 'NO_SIGNAL'])\n",
    "        \n",
    "        return signals\n"
   ]
  },
  {
   "cell_type": "code",
   "execution_count": 21,
   "id": "be05235b",
   "metadata": {},
   "outputs": [
    {
     "name": "stderr",
     "output_type": "stream",
     "text": [
      "C:\\Users\\acer\\AppData\\Local\\Temp\\ipykernel_6960\\2037987013.py:19: FutureWarning: Automatic reindexing on DataFrame vs Series comparisons is deprecated and will raise ValueError in a future version. Do `left, right = left.align(right, axis=1, copy=False)` before e.g. `left == right`\n",
      "  signals.loc[indicator_data.shift() < df['close'], 'signal'] == 'BUY'\n"
     ]
    },
    {
     "ename": "ValueError",
     "evalue": "Cannot index with multidimensional key",
     "output_type": "error",
     "traceback": [
      "\u001b[1;31m---------------------------------------------------------------------------\u001b[0m",
      "\u001b[1;31mValueError\u001b[0m                                Traceback (most recent call last)",
      "\u001b[1;32m~\\AppData\\Local\\Temp\\ipykernel_6960\\4233993178.py\u001b[0m in \u001b[0;36m<module>\u001b[1;34m\u001b[0m\n\u001b[0;32m      3\u001b[0m \u001b[0mscript_data\u001b[0m\u001b[1;33m.\u001b[0m\u001b[0mfetch_intraday_data\u001b[0m\u001b[1;33m(\u001b[0m\u001b[1;34m'GOOGL'\u001b[0m\u001b[1;33m)\u001b[0m\u001b[1;33m\u001b[0m\u001b[1;33m\u001b[0m\u001b[0m\n\u001b[0;32m      4\u001b[0m \u001b[0mdf\u001b[0m \u001b[1;33m=\u001b[0m \u001b[0mscript_data\u001b[0m\u001b[1;33m.\u001b[0m\u001b[0mconvert_intraday_data\u001b[0m\u001b[1;33m(\u001b[0m\u001b[1;34m'GOOGL'\u001b[0m\u001b[1;33m)\u001b[0m\u001b[1;33m\u001b[0m\u001b[1;33m\u001b[0m\u001b[0m\n\u001b[1;32m----> 5\u001b[1;33m \u001b[0mst\u001b[0m\u001b[1;33m.\u001b[0m\u001b[0mgenerate_signals\u001b[0m\u001b[1;33m(\u001b[0m\u001b[0mdf\u001b[0m\u001b[1;33m)\u001b[0m\u001b[1;33m\u001b[0m\u001b[1;33m\u001b[0m\u001b[0m\n\u001b[0m",
      "\u001b[1;32m~\\AppData\\Local\\Temp\\ipykernel_6960\\2037987013.py\u001b[0m in \u001b[0;36mgenerate_signals\u001b[1;34m(self, script)\u001b[0m\n\u001b[0;32m     17\u001b[0m         \u001b[0msignals\u001b[0m \u001b[1;33m=\u001b[0m \u001b[0mpd\u001b[0m\u001b[1;33m.\u001b[0m\u001b[0mDataFrame\u001b[0m\u001b[1;33m(\u001b[0m\u001b[1;33m{\u001b[0m\u001b[1;34m'timestamp'\u001b[0m\u001b[1;33m:\u001b[0m \u001b[0mdf\u001b[0m\u001b[1;33m.\u001b[0m\u001b[0mindex\u001b[0m\u001b[1;33m}\u001b[0m\u001b[1;33m)\u001b[0m\u001b[1;33m\u001b[0m\u001b[1;33m\u001b[0m\u001b[0m\n\u001b[0;32m     18\u001b[0m         \u001b[0msignals\u001b[0m\u001b[1;33m[\u001b[0m\u001b[1;34m'signal'\u001b[0m\u001b[1;33m]\u001b[0m \u001b[1;33m=\u001b[0m \u001b[1;34m'NO_SIGNAL'\u001b[0m\u001b[1;33m\u001b[0m\u001b[1;33m\u001b[0m\u001b[0m\n\u001b[1;32m---> 19\u001b[1;33m         \u001b[0msignals\u001b[0m\u001b[1;33m.\u001b[0m\u001b[0mloc\u001b[0m\u001b[1;33m[\u001b[0m\u001b[0mindicator_data\u001b[0m\u001b[1;33m.\u001b[0m\u001b[0mshift\u001b[0m\u001b[1;33m(\u001b[0m\u001b[1;33m)\u001b[0m \u001b[1;33m<\u001b[0m \u001b[0mdf\u001b[0m\u001b[1;33m[\u001b[0m\u001b[1;34m'close'\u001b[0m\u001b[1;33m]\u001b[0m\u001b[1;33m,\u001b[0m \u001b[1;34m'signal'\u001b[0m\u001b[1;33m]\u001b[0m \u001b[1;33m==\u001b[0m \u001b[1;34m'BUY'\u001b[0m\u001b[1;33m\u001b[0m\u001b[1;33m\u001b[0m\u001b[0m\n\u001b[0m\u001b[0;32m     20\u001b[0m         \u001b[0msignals\u001b[0m\u001b[1;33m.\u001b[0m\u001b[0mloc\u001b[0m\u001b[1;33m[\u001b[0m\u001b[0mindicator_data\u001b[0m\u001b[1;33m.\u001b[0m\u001b[0mshift\u001b[0m\u001b[1;33m(\u001b[0m\u001b[1;33m)\u001b[0m \u001b[1;33m>\u001b[0m \u001b[0mdf\u001b[0m\u001b[1;33m[\u001b[0m\u001b[1;34m'close'\u001b[0m\u001b[1;33m]\u001b[0m\u001b[1;33m,\u001b[0m \u001b[1;34m'signal'\u001b[0m\u001b[1;33m]\u001b[0m \u001b[1;33m==\u001b[0m \u001b[1;34m'SELL'\u001b[0m\u001b[1;33m\u001b[0m\u001b[1;33m\u001b[0m\u001b[0m\n\u001b[0;32m     21\u001b[0m \u001b[1;33m\u001b[0m\u001b[0m\n",
      "\u001b[1;32m~\\anaconda3\\lib\\site-packages\\pandas\\core\\indexing.py\u001b[0m in \u001b[0;36m__getitem__\u001b[1;34m(self, key)\u001b[0m\n\u001b[0;32m    959\u001b[0m             \u001b[1;32mif\u001b[0m \u001b[0mself\u001b[0m\u001b[1;33m.\u001b[0m\u001b[0m_is_scalar_access\u001b[0m\u001b[1;33m(\u001b[0m\u001b[0mkey\u001b[0m\u001b[1;33m)\u001b[0m\u001b[1;33m:\u001b[0m\u001b[1;33m\u001b[0m\u001b[1;33m\u001b[0m\u001b[0m\n\u001b[0;32m    960\u001b[0m                 \u001b[1;32mreturn\u001b[0m \u001b[0mself\u001b[0m\u001b[1;33m.\u001b[0m\u001b[0mobj\u001b[0m\u001b[1;33m.\u001b[0m\u001b[0m_get_value\u001b[0m\u001b[1;33m(\u001b[0m\u001b[1;33m*\u001b[0m\u001b[0mkey\u001b[0m\u001b[1;33m,\u001b[0m \u001b[0mtakeable\u001b[0m\u001b[1;33m=\u001b[0m\u001b[0mself\u001b[0m\u001b[1;33m.\u001b[0m\u001b[0m_takeable\u001b[0m\u001b[1;33m)\u001b[0m\u001b[1;33m\u001b[0m\u001b[1;33m\u001b[0m\u001b[0m\n\u001b[1;32m--> 961\u001b[1;33m             \u001b[1;32mreturn\u001b[0m \u001b[0mself\u001b[0m\u001b[1;33m.\u001b[0m\u001b[0m_getitem_tuple\u001b[0m\u001b[1;33m(\u001b[0m\u001b[0mkey\u001b[0m\u001b[1;33m)\u001b[0m\u001b[1;33m\u001b[0m\u001b[1;33m\u001b[0m\u001b[0m\n\u001b[0m\u001b[0;32m    962\u001b[0m         \u001b[1;32melse\u001b[0m\u001b[1;33m:\u001b[0m\u001b[1;33m\u001b[0m\u001b[1;33m\u001b[0m\u001b[0m\n\u001b[0;32m    963\u001b[0m             \u001b[1;31m# we by definition only have the 0th axis\u001b[0m\u001b[1;33m\u001b[0m\u001b[1;33m\u001b[0m\u001b[0m\n",
      "\u001b[1;32m~\\anaconda3\\lib\\site-packages\\pandas\\core\\indexing.py\u001b[0m in \u001b[0;36m_getitem_tuple\u001b[1;34m(self, tup)\u001b[0m\n\u001b[0;32m   1138\u001b[0m         \u001b[1;32mwith\u001b[0m \u001b[0msuppress\u001b[0m\u001b[1;33m(\u001b[0m\u001b[0mIndexingError\u001b[0m\u001b[1;33m)\u001b[0m\u001b[1;33m:\u001b[0m\u001b[1;33m\u001b[0m\u001b[1;33m\u001b[0m\u001b[0m\n\u001b[0;32m   1139\u001b[0m             \u001b[0mtup\u001b[0m \u001b[1;33m=\u001b[0m \u001b[0mself\u001b[0m\u001b[1;33m.\u001b[0m\u001b[0m_expand_ellipsis\u001b[0m\u001b[1;33m(\u001b[0m\u001b[0mtup\u001b[0m\u001b[1;33m)\u001b[0m\u001b[1;33m\u001b[0m\u001b[1;33m\u001b[0m\u001b[0m\n\u001b[1;32m-> 1140\u001b[1;33m             \u001b[1;32mreturn\u001b[0m \u001b[0mself\u001b[0m\u001b[1;33m.\u001b[0m\u001b[0m_getitem_lowerdim\u001b[0m\u001b[1;33m(\u001b[0m\u001b[0mtup\u001b[0m\u001b[1;33m)\u001b[0m\u001b[1;33m\u001b[0m\u001b[1;33m\u001b[0m\u001b[0m\n\u001b[0m\u001b[0;32m   1141\u001b[0m \u001b[1;33m\u001b[0m\u001b[0m\n\u001b[0;32m   1142\u001b[0m         \u001b[1;31m# no multi-index, so validate all of the indexers\u001b[0m\u001b[1;33m\u001b[0m\u001b[1;33m\u001b[0m\u001b[0m\n",
      "\u001b[1;32m~\\anaconda3\\lib\\site-packages\\pandas\\core\\indexing.py\u001b[0m in \u001b[0;36m_getitem_lowerdim\u001b[1;34m(self, tup)\u001b[0m\n\u001b[0;32m    889\u001b[0m                     \u001b[1;32mreturn\u001b[0m \u001b[0msection\u001b[0m\u001b[1;33m\u001b[0m\u001b[1;33m\u001b[0m\u001b[0m\n\u001b[0;32m    890\u001b[0m                 \u001b[1;31m# This is an elided recursive call to iloc/loc\u001b[0m\u001b[1;33m\u001b[0m\u001b[1;33m\u001b[0m\u001b[0m\n\u001b[1;32m--> 891\u001b[1;33m                 \u001b[1;32mreturn\u001b[0m \u001b[0mgetattr\u001b[0m\u001b[1;33m(\u001b[0m\u001b[0msection\u001b[0m\u001b[1;33m,\u001b[0m \u001b[0mself\u001b[0m\u001b[1;33m.\u001b[0m\u001b[0mname\u001b[0m\u001b[1;33m)\u001b[0m\u001b[1;33m[\u001b[0m\u001b[0mnew_key\u001b[0m\u001b[1;33m]\u001b[0m\u001b[1;33m\u001b[0m\u001b[1;33m\u001b[0m\u001b[0m\n\u001b[0m\u001b[0;32m    892\u001b[0m \u001b[1;33m\u001b[0m\u001b[0m\n\u001b[0;32m    893\u001b[0m         \u001b[1;32mraise\u001b[0m \u001b[0mIndexingError\u001b[0m\u001b[1;33m(\u001b[0m\u001b[1;34m\"not applicable\"\u001b[0m\u001b[1;33m)\u001b[0m\u001b[1;33m\u001b[0m\u001b[1;33m\u001b[0m\u001b[0m\n",
      "\u001b[1;32m~\\anaconda3\\lib\\site-packages\\pandas\\core\\indexing.py\u001b[0m in \u001b[0;36m__getitem__\u001b[1;34m(self, key)\u001b[0m\n\u001b[0;32m    965\u001b[0m \u001b[1;33m\u001b[0m\u001b[0m\n\u001b[0;32m    966\u001b[0m             \u001b[0mmaybe_callable\u001b[0m \u001b[1;33m=\u001b[0m \u001b[0mcom\u001b[0m\u001b[1;33m.\u001b[0m\u001b[0mapply_if_callable\u001b[0m\u001b[1;33m(\u001b[0m\u001b[0mkey\u001b[0m\u001b[1;33m,\u001b[0m \u001b[0mself\u001b[0m\u001b[1;33m.\u001b[0m\u001b[0mobj\u001b[0m\u001b[1;33m)\u001b[0m\u001b[1;33m\u001b[0m\u001b[1;33m\u001b[0m\u001b[0m\n\u001b[1;32m--> 967\u001b[1;33m             \u001b[1;32mreturn\u001b[0m \u001b[0mself\u001b[0m\u001b[1;33m.\u001b[0m\u001b[0m_getitem_axis\u001b[0m\u001b[1;33m(\u001b[0m\u001b[0mmaybe_callable\u001b[0m\u001b[1;33m,\u001b[0m \u001b[0maxis\u001b[0m\u001b[1;33m=\u001b[0m\u001b[0maxis\u001b[0m\u001b[1;33m)\u001b[0m\u001b[1;33m\u001b[0m\u001b[1;33m\u001b[0m\u001b[0m\n\u001b[0m\u001b[0;32m    968\u001b[0m \u001b[1;33m\u001b[0m\u001b[0m\n\u001b[0;32m    969\u001b[0m     \u001b[1;32mdef\u001b[0m \u001b[0m_is_scalar_access\u001b[0m\u001b[1;33m(\u001b[0m\u001b[0mself\u001b[0m\u001b[1;33m,\u001b[0m \u001b[0mkey\u001b[0m\u001b[1;33m:\u001b[0m \u001b[0mtuple\u001b[0m\u001b[1;33m)\u001b[0m\u001b[1;33m:\u001b[0m\u001b[1;33m\u001b[0m\u001b[1;33m\u001b[0m\u001b[0m\n",
      "\u001b[1;32m~\\anaconda3\\lib\\site-packages\\pandas\\core\\indexing.py\u001b[0m in \u001b[0;36m_getitem_axis\u001b[1;34m(self, key, axis)\u001b[0m\n\u001b[0;32m   1190\u001b[0m \u001b[1;33m\u001b[0m\u001b[0m\n\u001b[0;32m   1191\u001b[0m                 \u001b[1;32mif\u001b[0m \u001b[0mhasattr\u001b[0m\u001b[1;33m(\u001b[0m\u001b[0mkey\u001b[0m\u001b[1;33m,\u001b[0m \u001b[1;34m\"ndim\"\u001b[0m\u001b[1;33m)\u001b[0m \u001b[1;32mand\u001b[0m \u001b[0mkey\u001b[0m\u001b[1;33m.\u001b[0m\u001b[0mndim\u001b[0m \u001b[1;33m>\u001b[0m \u001b[1;36m1\u001b[0m\u001b[1;33m:\u001b[0m\u001b[1;33m\u001b[0m\u001b[1;33m\u001b[0m\u001b[0m\n\u001b[1;32m-> 1192\u001b[1;33m                     \u001b[1;32mraise\u001b[0m \u001b[0mValueError\u001b[0m\u001b[1;33m(\u001b[0m\u001b[1;34m\"Cannot index with multidimensional key\"\u001b[0m\u001b[1;33m)\u001b[0m\u001b[1;33m\u001b[0m\u001b[1;33m\u001b[0m\u001b[0m\n\u001b[0m\u001b[0;32m   1193\u001b[0m \u001b[1;33m\u001b[0m\u001b[0m\n\u001b[0;32m   1194\u001b[0m                 \u001b[1;32mreturn\u001b[0m \u001b[0mself\u001b[0m\u001b[1;33m.\u001b[0m\u001b[0m_getitem_iterable\u001b[0m\u001b[1;33m(\u001b[0m\u001b[0mkey\u001b[0m\u001b[1;33m,\u001b[0m \u001b[0maxis\u001b[0m\u001b[1;33m=\u001b[0m\u001b[0maxis\u001b[0m\u001b[1;33m)\u001b[0m\u001b[1;33m\u001b[0m\u001b[1;33m\u001b[0m\u001b[0m\n",
      "\u001b[1;31mValueError\u001b[0m: Cannot index with multidimensional key"
     ]
    }
   ],
   "source": [
    "st=Strategy(\"SOQTTZUE488CNG23\")\n",
    "script_data = ScriptData('SOQTTZUE488CNG23')\n",
    "script_data.fetch_intraday_data('GOOGL')\n",
    "df = script_data.convert_intraday_data('GOOGL')\n",
    "st.generate_signals(df)"
   ]
  },
  {
   "cell_type": "code",
   "execution_count": null,
   "id": "6f3a5934",
   "metadata": {},
   "outputs": [],
   "source": []
  }
 ],
 "metadata": {
  "kernelspec": {
   "display_name": "Python 3 (ipykernel)",
   "language": "python",
   "name": "python3"
  },
  "language_info": {
   "codemirror_mode": {
    "name": "ipython",
    "version": 3
   },
   "file_extension": ".py",
   "mimetype": "text/x-python",
   "name": "python",
   "nbconvert_exporter": "python",
   "pygments_lexer": "ipython3",
   "version": "3.9.13"
  }
 },
 "nbformat": 4,
 "nbformat_minor": 5
}
